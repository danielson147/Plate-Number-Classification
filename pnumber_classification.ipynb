{
  "nbformat": 4,
  "nbformat_minor": 0,
  "metadata": {
    "colab": {
      "name": "pnumber_classification.ipynb",
      "provenance": [],
      "collapsed_sections": [],
      "include_colab_link": true
    },
    "kernelspec": {
      "name": "python3",
      "display_name": "Python 3"
    },
    "accelerator": "GPU"
  },
  "cells": [
    {
      "cell_type": "markdown",
      "metadata": {
        "id": "view-in-github",
        "colab_type": "text"
      },
      "source": [
        "<a href=\"https://colab.research.google.com/github/danielson147/Plate-Number-Classification/blob/master/pnumber_classification.ipynb\" target=\"_parent\"><img src=\"https://colab.research.google.com/assets/colab-badge.svg\" alt=\"Open In Colab\"/></a>"
      ]
    },
    {
      "cell_type": "markdown",
      "metadata": {
        "id": "Y6UYOs05sH-1",
        "colab_type": "text"
      },
      "source": [
        "All packages are imported here"
      ]
    },
    {
      "cell_type": "code",
      "metadata": {
        "id": "WGhadfqHYFBT",
        "colab_type": "code",
        "outputId": "fbc6829d-6929-4060-b87e-3b2dd73628b8",
        "colab": {
          "base_uri": "https://localhost:8080/",
          "height": 34
        }
      },
      "source": [
        "\n",
        "import numpy as np\n",
        "import pandas as pd\n",
        "from keras.preprocessing.image import ImageDataGenerator, load_img\n",
        "from keras.utils import to_categorical\n",
        "from sklearn.model_selection import train_test_split\n",
        "import matplotlib.pyplot as plt\n",
        "import random\n",
        "import os, cv2,itertools\n",
        "import matplotlib.pyplot as plt\n",
        "%matplotlib inline\n",
        "\n"
      ],
      "execution_count": 0,
      "outputs": [
        {
          "output_type": "stream",
          "text": [
            "Using TensorFlow backend.\n"
          ],
          "name": "stderr"
        }
      ]
    },
    {
      "cell_type": "markdown",
      "metadata": {
        "id": "RDkjSLLebLNK",
        "colab_type": "text"
      },
      "source": [
        "This session mount google drive on colab. This will give us access to files on google drive "
      ]
    },
    {
      "cell_type": "code",
      "metadata": {
        "id": "utdwFIwsbMWB",
        "colab_type": "code",
        "outputId": "bc768a34-af6d-4282-d98e-1634fd462a39",
        "colab": {
          "base_uri": "https://localhost:8080/",
          "height": 70
        }
      },
      "source": [
        "from google.colab import drive\n",
        "drive.mount('/gdrive')\n",
        "%cd /gdrive\n"
      ],
      "execution_count": 0,
      "outputs": [
        {
          "output_type": "stream",
          "text": [
            "Drive already mounted at /gdrive; to attempt to forcibly remount, call drive.mount(\"/gdrive\", force_remount=True).\n",
            "/gdrive\n"
          ],
          "name": "stdout"
        }
      ]
    },
    {
      "cell_type": "markdown",
      "metadata": {
        "id": "GU51FLtJ1CUJ",
        "colab_type": "text"
      },
      "source": [
        "Data Preparation\n",
        "Here the following happens\n",
        "1. Set the path for both image folders directory\n",
        "2. Set the Rows and Columns to 64 each\n",
        "3. Set the channel to 3 because the images are in RGB"
      ]
    },
    {
      "cell_type": "code",
      "metadata": {
        "id": "Povfh-rA0qsu",
        "colab_type": "code",
        "colab": {}
      },
      "source": [
        "plate_number_dir = '/gdrive/My Drive/hng6task1/plate_number' #'./plate_number/'\n",
        "negative_images_dir = '/gdrive/My Drive/hng6task1/negative_images' #'./negative_images/'\n",
        "ROWS = 64\n",
        "COLS = 64\n",
        "CHANNELS = 3"
      ],
      "execution_count": 0,
      "outputs": []
    },
    {
      "cell_type": "markdown",
      "metadata": {
        "id": "bk1rXJmhAbpv",
        "colab_type": "text"
      },
      "source": [
        "\n",
        "We need to now collect all images in a list\n",
        "\n",
        "\n"
      ]
    },
    {
      "cell_type": "code",
      "metadata": {
        "id": "ASdGVzFRAUrx",
        "colab_type": "code",
        "colab": {}
      },
      "source": [
        "plate_numbers_img = [plate_number_dir+i for i in os.listdir(plate_number_dir)]\n",
        "negative_images_img = [negative_images_dir+i for i in os.listdir(negative_images_dir)]"
      ],
      "execution_count": 0,
      "outputs": []
    },
    {
      "cell_type": "markdown",
      "metadata": {
        "id": "BL3z_PHzAZ5N",
        "colab_type": "text"
      },
      "source": [
        "We need to now define a function to read and resize all the images"
      ]
    },
    {
      "cell_type": "code",
      "metadata": {
        "id": "RiObiItCB0cu",
        "colab_type": "code",
        "colab": {}
      },
      "source": [
        "def read_image(file_path):\n",
        "  img = cv2.imread(file_path, cv2.IMREAD_COLOR)\n",
        "  resized_img = cv2.resize(img, (ROWS,COLS), interpolation = cv2.INTER_AREA)\n",
        "  return resized_img"
      ],
      "execution_count": 0,
      "outputs": []
    },
    {
      "cell_type": "markdown",
      "metadata": {
        "id": "vBOMobXyCnDe",
        "colab_type": "text"
      },
      "source": [
        "We need to now define a function to prepare the images for usage in our model "
      ]
    },
    {
      "cell_type": "code",
      "metadata": {
        "id": "chOzdqhLC4Ss",
        "colab_type": "code",
        "colab": {}
      },
      "source": [
        "def prep_data(images):\n",
        "  m = len(images)\n",
        "  n_x = ROWS*COLS*CHANNELS\n",
        "  X = np.ndarray((n_x,m), dtype = np.uint8)\n",
        "  y = np.zeros((1,m))\n",
        "  print(\"X.shape is {}\".format(X.shape))\n",
        "  for i,image_file in enumerate(images):\n",
        "    \n",
        "    image = read_image(image_file)\n",
        "    print(i, 'done')\n",
        "    X[:,i] = np.squeeze(image.reshape((n_x,1)))\n",
        "    \n",
        "    if'-' in image_file.lower():\n",
        "      y[0,i] = 1\n",
        "      \n",
        "    elif'glass' in image_file.lower():\n",
        "      y[0,i] = 0\n",
        "      \n",
        "      \n",
        "    if 1%100 == 0:\n",
        "      print(\"Proceed {} of {}\".format(i,m))\n",
        "      \n",
        "    return X,y"
      ],
      "execution_count": 0,
      "outputs": []
    },
    {
      "cell_type": "markdown",
      "metadata": {
        "id": "PJaysMKZlKx1",
        "colab_type": "text"
      },
      "source": [
        "We need to then call the above function and pass it to the two image list\n",
        "\n",
        "1.   plate_img\n",
        "2.   negative_img\n",
        "\n"
      ]
    },
    {
      "cell_type": "code",
      "metadata": {
        "id": "6ROc1AJVlYvr",
        "colab_type": "code",
        "colab": {}
      },
      "source": [
        "plate_img, negative_img = prep_data(plate_numbers_img + negative_images_img)"
      ],
      "execution_count": 0,
      "outputs": []
    },
    {
      "cell_type": "markdown",
      "metadata": {
        "id": "6CDInKul8IB7",
        "colab_type": "text"
      },
      "source": [
        "Setting the classes. 1 for plate_number and 0 for negative_images"
      ]
    },
    {
      "cell_type": "code",
      "metadata": {
        "id": "EFS9STfa8a1P",
        "colab_type": "code",
        "colab": {}
      },
      "source": [
        "classes = {0:'Negative_Image', \n",
        "           1:'Plate_Number'}"
      ],
      "execution_count": 0,
      "outputs": []
    },
    {
      "cell_type": "markdown",
      "metadata": {
        "id": "Selo5AfC84ml",
        "colab_type": "text"
      },
      "source": [
        "Setting a function for displaying images"
      ]
    },
    {
      "cell_type": "code",
      "metadata": {
        "id": "WV_34V6N9Bte",
        "colab_type": "code",
        "colab": {}
      },
      "source": [
        "def show_images(X, y, idx):\n",
        "  image = X[idx]\n",
        "  image = image.reshape((ROWS, COLS, CHANNELS))\n",
        "  plt.figure(figsize=(4,2))\n",
        "  plt. imshow(image),\n",
        "  plt.title(classes[y[idx,0]])\n",
        "  plt.show()\n",
        "show_images(plate_img.T, negative_img.T, 0)"
      ],
      "execution_count": 0,
      "outputs": []
    },
    {
      "cell_type": "markdown",
      "metadata": {
        "id": "zYj4g47ABTZf",
        "colab_type": "text"
      },
      "source": [
        "Build Logistic Regression Model\n",
        "Here, we will \n",
        "1. import logisticRegressionCV from sklearn\n",
        "2. Initialise the LRCV\n",
        "3. Fit our data into the model\n",
        "4. Print the model accuracy on our training set\n"
      ]
    },
    {
      "cell_type": "code",
      "metadata": {
        "id": "Pb_0PxQ5DLhl",
        "colab_type": "code",
        "colab": {}
      },
      "source": [
        "from sklearn.linear_model import LogisticRegressionCV\n",
        "\n",
        "clf = LogisticRegressionCV()\n",
        "plate_img_lr, neg_img_lr = plate_img.T, negative_img.T.ravel()\n",
        "\n",
        "clf.fit(plate_img, neg_img_lr)\n",
        "print(\"Model accuracy: {:.2f}%\".format(clf.score(plate_img_lr, neg_img_lr)*100))\n"
      ],
      "execution_count": 0,
      "outputs": []
    },
    {
      "cell_type": "markdown",
      "metadata": {
        "id": "IREp-VRSCcLn",
        "colab_type": "text"
      },
      "source": [
        "A function to display image prediction"
      ]
    },
    {
      "cell_type": "code",
      "metadata": {
        "id": "cFZoM92BF2Bn",
        "colab_type": "code",
        "colab": {}
      },
      "source": [
        "def show_image_prediction(X, idx, model):\n",
        "  image = X[idx].reshape(1,-1)\n",
        "  image_class = classes[model.predict(image).item()]\n",
        "  image = image.reshape((ROWS, COLS, CHANNELS))\n",
        "  plt.figure(figsize = (4,2))\n",
        "  plt.imshow(image)\n",
        "  plt.title(\"Test {} : I think this is {}\".format(idx, image_class))\n",
        "  \n",
        "  plt.show()"
      ],
      "execution_count": 0,
      "outputs": []
    },
    {
      "cell_type": "markdown",
      "metadata": {
        "id": "n-SLIAPZIFSN",
        "colab_type": "text"
      },
      "source": [
        "Since we do not have a test set, we predict our model on our training set"
      ]
    },
    {
      "cell_type": "code",
      "metadata": {
        "id": "XkeJOxmmITXT",
        "colab_type": "code",
        "colab": {}
      },
      "source": [
        "plate_img_lr, neg_img_lr = plate_img.T, negative_img.T\n",
        "\n",
        "for i in np.random.randint(0, len(plate_img_lr), 5):\n",
        "  show_image_prediction(plate_img_lr, i, clf)"
      ],
      "execution_count": 0,
      "outputs": []
    },
    {
      "cell_type": "markdown",
      "metadata": {
        "id": "-nIPlLgeJF8F",
        "colab_type": "text"
      },
      "source": [
        "KNN Classification"
      ]
    },
    {
      "cell_type": "code",
      "metadata": {
        "id": "gqi7p4fnJKfh",
        "colab_type": "code",
        "colab": {}
      },
      "source": [
        "from sklearn.neighbors import KNeighborsClassifier\n",
        "\n",
        "knn = KNeighborsClassifier()\n",
        "knn.fit(plate_img_lr, neg_img_lr)\n",
        "\n",
        "print(\"Model accuracy: {:.2f}%\".format(knn.score(plate_img_lr, neg_img_lr)*100))"
      ],
      "execution_count": 0,
      "outputs": []
    },
    {
      "cell_type": "markdown",
      "metadata": {
        "id": "HsGDufQeJ82r",
        "colab_type": "text"
      },
      "source": [
        "From the above score, we can see that KNN performs poorly compared to Logistic Regression"
      ]
    },
    {
      "cell_type": "code",
      "metadata": {
        "id": "RZYsYxr1Khf9",
        "colab_type": "code",
        "colab": {}
      },
      "source": [
        "plate_img_lr, neg_img_lr = plate_img.T, negative_img.T\n",
        "\n",
        "for i in np.random.randint(0, len(plate_img_lr), 5):\n",
        "  show_image_prediction(plate_img_lr, i, knn)"
      ],
      "execution_count": 0,
      "outputs": []
    },
    {
      "cell_type": "markdown",
      "metadata": {
        "id": "PXdjV0H5LEjZ",
        "colab_type": "text"
      },
      "source": [
        "Radius Nearest Neighbor"
      ]
    },
    {
      "cell_type": "code",
      "metadata": {
        "id": "6jqhih-rLMQL",
        "colab_type": "code",
        "colab": {}
      },
      "source": [
        "from sklearn.neighbors import RadiusNeighborsClassifier\n",
        "\n",
        "rnc = RadiusNeighborsClassifier()\n",
        "rnc.fit(plate_img_lr, neg_img_lr)\n",
        "\n",
        "print(\"Model accuracy: {:.2f}%\".format(rnc.score(plate_img_lr, neg_img_lr)*100))"
      ],
      "execution_count": 0,
      "outputs": []
    },
    {
      "cell_type": "code",
      "metadata": {
        "id": "oKV0UmyNMV0o",
        "colab_type": "code",
        "colab": {}
      },
      "source": [
        "plate_img_lr, neg_img_lr = plate_img.T, negative_img.T\n",
        "\n",
        "for i in np.random.randint(0, len(plate_img_lr), 5):\n",
        "  show_image_prediction(plate_img_lr, i, rnc)"
      ],
      "execution_count": 0,
      "outputs": []
    }
  ]
}